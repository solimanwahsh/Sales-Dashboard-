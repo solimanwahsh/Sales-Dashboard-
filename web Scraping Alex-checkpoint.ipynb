{
 "cells": [
  {
   "cell_type": "code",
   "execution_count": 1,
   "id": "86b9e4c2",
   "metadata": {},
   "outputs": [],
   "source": [
    "from bs4 import BeautifulSoup \n",
    "import requests"
   ]
  },
  {
   "cell_type": "code",
   "execution_count": 2,
   "id": "f29ff516",
   "metadata": {},
   "outputs": [],
   "source": [
    "url='https://disfold.com/south-africa/companies/'"
   ]
  },
  {
   "cell_type": "code",
   "execution_count": 3,
   "id": "8da66a53",
   "metadata": {},
   "outputs": [],
   "source": [
    "page=requests.get(url)"
   ]
  },
  {
   "cell_type": "code",
   "execution_count": 4,
   "id": "3bb6504e",
   "metadata": {},
   "outputs": [],
   "source": [
    "soup=BeautifulSoup(page.text,'html')"
   ]
  },
  {
   "cell_type": "code",
   "execution_count": 5,
   "id": "e00fab97",
   "metadata": {},
   "outputs": [],
   "source": [
    "table=soup.find_all(\"table\",class_=\"striped\")"
   ]
  },
  {
   "cell_type": "code",
   "execution_count": 6,
   "id": "1056f349",
   "metadata": {},
   "outputs": [],
   "source": [
    "world_title=soup.find_all('th')"
   ]
  },
  {
   "cell_type": "code",
   "execution_count": null,
   "id": "d674b05f",
   "metadata": {},
   "outputs": [],
   "source": []
  },
  {
   "cell_type": "code",
   "execution_count": 7,
   "id": "9d7d94df",
   "metadata": {},
   "outputs": [
    {
     "name": "stdout",
     "output_type": "stream",
     "text": [
      "['Ranking', 'Company', 'Market Cap (USD)', 'Stock', 'Country', 'Sector', 'Industry']\n"
     ]
    }
   ],
   "source": [
    "world_table_title=[title.text.strip() for title in world_title]\n",
    "print(world_table_title)"
   ]
  },
  {
   "cell_type": "code",
   "execution_count": 8,
   "id": "fa53c088",
   "metadata": {},
   "outputs": [],
   "source": [
    "import pandas as pd\n",
    "import numpy as np"
   ]
  },
  {
   "cell_type": "code",
   "execution_count": 11,
   "id": "7aeb2d18",
   "metadata": {},
   "outputs": [
    {
     "name": "stdout",
     "output_type": "stream",
     "text": [
      "[]\n",
      "['1', 'Naspers Ltd', '$31.38 B', 'NPN\\n                                        \\n\\nwb_incandescent', 'South Africa', 'Communication Services', 'Internet Content & Information']\n",
      "['2', 'FirstRand Ltd', '$21.67 B', 'FSR\\n                                        \\n\\nwb_incandescent', 'South Africa', 'Financials', 'Banks—Diversified']\n",
      "['3', 'Standard Bank Group Ltd', '$18.51 B', 'SBK\\n                                        \\n\\nwb_incandescent', 'South Africa', 'Financials', 'Banks—Regional']\n",
      "['4', 'Anglo American Platinum Ltd', '$12.63 B', 'AMS\\n                                        \\n\\nwb_incandescent', 'South Africa', 'Basic Materials', 'Other Precious Metals & Mining']\n",
      "['5', 'Capitec Bank Holdings Ltd', '$12.37 B', 'CPI\\n                                        \\n\\nwb_incandescent', 'South Africa', 'Financials', 'Banks—Regional']\n",
      "['6', 'Gold Fields Limited', '$12.10 B', 'GFI\\n                                        \\n\\nwb_incandescent', 'South Africa', 'Basic Materials', 'Gold']\n",
      "['7', 'MTN Group Ltd', '$11.11 B', 'MTN\\n                                        \\n\\nwb_incandescent', 'South Africa', 'Communication Services', 'Telecom Services']\n",
      "['8', 'Vodacom Group Ltd', '$11.11 B', 'VOD\\n                                        \\n\\nwb_incandescent', 'South Africa', 'Communication Services', 'Telecom Services']\n",
      "['9', 'Kumba Iron Ore Ltd', '$10.31 B', 'KIO\\n                                        \\n\\nwb_incandescent', 'South Africa', 'Basic Materials', 'Steel']\n",
      "['']\n",
      "['10', 'Shoprite Holdings Ltd', '$8.01 B', 'SHP\\n                                        \\n\\nwb_incandescent', 'South Africa', 'Consumer Discretionary', 'Department Stores']\n",
      "['11', 'Sanlam Ltd', '$7.95 B', 'SLM\\n                                        \\n\\nwb_incandescent', 'South Africa', 'Financials', 'Insurance—Life']\n",
      "['12', 'Tower Property Fund Ltd', '$7.94 B\\n                                            (Dec. 1, 2021)', 'TWR\\n                                        \\n\\nwb_incandescent', 'South Africa', 'Real Estate', 'REIT—Diversified']\n",
      "['13', 'Hosken Passenger Logistics and Rail Ltd', '$7.67 B\\n                                            (Sept. 1, 2021)', 'HPR\\n                                        \\n\\nwb_incandescent', 'South Africa', 'Industrials', 'Railroads']\n",
      "['14', 'AngloGold Ashanti Limited', '$7.58 B', 'ANG\\n                                        \\n\\nwb_incandescent', 'South Africa', 'Basic Materials', 'Gold']\n",
      "['15', 'Absa Group Ltd', '$7.53 B', 'ABG\\n                                        \\n\\nwb_incandescent', 'South Africa', 'Financials', 'Banks—Regional']\n",
      "['16', 'Sasol Limited', '$6.44 B', 'SOL\\n                                        \\n\\nwb_incandescent', 'South Africa', 'Energy', 'Oil & Gas Integrated']\n",
      "['17', 'Adapt IT Holdings Ltd', '$6.08 B\\n                                            (Dec. 1, 2021)', 'ADI\\n                                        \\n\\nwb_incandescent', 'South Africa', 'Industrials', 'Conglomerates']\n",
      "['18', 'Arrowhead Properties Ltd', '$6.04 B\\n                                            (Jan. 1, 2022)', 'AHA\\n                                        \\n\\nwb_incandescent', 'South Africa', 'Real Estate', 'REIT—Diversified']\n",
      "['19', 'Nedbank Group Ltd', '$5.29 B', 'NED\\n                                        \\n\\nwb_incandescent', 'South Africa', 'Financials', 'Banks—Regional']\n",
      "['20', 'Aspen Pharmacare Holdings Ltd', '$4.93 B', 'APN\\n                                        \\n\\nwb_incandescent', 'South Africa', 'Healthcare', 'Drug Manufacturers—Specialty & Generic']\n",
      "['21', 'Remgro Ltd', '$4.74 B', 'REM\\n                                        \\n\\nwb_incandescent', 'South Africa', 'Financials', 'Asset Management']\n",
      "['22', 'Mediclinic International plc', '$4.68 B\\n                                            (May 1, 2023)', 'MEI\\n                                        \\n\\nwb_incandescent', 'South Africa', 'Healthcare', 'Medical Care Facilities']\n",
      "['23', 'The Bidvest Group Ltd', '$4.43 B', 'BVT\\n                                        \\n\\nwb_incandescent', 'South Africa', 'Industrials', 'Conglomerates']\n",
      "['24', 'Impala Platinum Holdings Ltd', '$4.11 B', 'IMP\\n                                        \\n\\nwb_incandescent', 'South Africa', 'Basic Materials', 'Other Precious Metals & Mining']\n",
      "['25', 'Clicks Group Ltd', '$4.03 B', 'CLS\\n                                        \\n\\nwb_incandescent', 'South Africa', 'Healthcare', 'Pharmaceutical Retailers']\n",
      "['26', 'Pepkor Holdings Ltd', '$3.81 B', 'PPH\\n                                        \\n\\nwb_incandescent', 'South Africa', 'Consumer Discretionary', 'Department Stores']\n",
      "['27', 'Harmony Gold Mining Company Limited', '$3.79 B', 'HAR\\n                                        \\n\\nwb_incandescent', 'South Africa', 'Basic Materials', 'Gold']\n",
      "['28', 'Sibanye Stillwater Limited', '$3.68 B', 'SSW\\n                                        \\n\\nwb_incandescent', 'South Africa', 'Basic Materials', 'Gold']\n",
      "['29', 'Woolworths Holdings Ltd', '$3.45 B', 'WHL\\n                                        \\n\\nwb_incandescent', 'South Africa', 'Consumer Discretionary', 'Department Stores']\n",
      "['30', 'Rand Merchant Investment Holdings Ltd', '$3.43 B', 'RMI\\n                                        \\n\\nwb_incandescent', 'South Africa', 'Financials', 'Insurance—Diversified']\n",
      "['31', 'Old Mutual Limited', '$3.18 B', 'OMU\\n                                        \\n\\nwb_incandescent', 'South Africa', 'Financials', 'Insurance—Life']\n",
      "['32', 'Northam Platinum Ltd', '$2.98 B', 'NPH\\n                                        \\n\\nwb_incandescent', 'South Africa', 'Basic Materials', 'Other Precious Metals & Mining']\n",
      "['33', 'Exxaro Resources Ltd', '$2.58 B', 'EXX\\n                                        \\n\\nwb_incandescent', 'South Africa', 'Energy', 'Thermal Coal']\n",
      "['34', 'Ninety One Group', '$2.11 B', 'N91\\n                                        \\n\\nwb_incandescent', 'South Africa', 'Financials', 'Asset Management']\n",
      "['35', 'Growthpoint Properties Ltd', '$2.10 B', 'GRT\\n                                        \\n\\nwb_incandescent', 'South Africa', 'Real Estate', 'REIT—Diversified']\n",
      "['36', 'MultiChoice Group', '$2.04 B', '30R\\n                                        \\n\\nwb_incandescent', 'South Africa', 'Communication Services', 'Entertainment']\n",
      "['37', 'Royal Bafokeng Platinum Ltd', '$2.04 B\\n                                            (July 1, 2023)', 'RBP\\n                                        \\n\\nwb_incandescent', 'South Africa', 'Basic Materials', 'Other Precious Metals & Mining']\n",
      "['38', 'African Rainbow Minerals Ltd', '$2.03 B', 'ARI\\n                                        \\n\\nwb_incandescent', 'South Africa', 'Basic Materials', 'Other Industrial Metals & Mining']\n",
      "['39', 'Mr Price Group Ltd', '$2.02 B', 'MRP\\n                                        \\n\\nwb_incandescent', 'South Africa', 'Consumer Discretionary', 'Apparel Retail']\n",
      "['40', 'Tiger Brands Ltd', '$1.86 B', 'TBS\\n                                        \\n\\nwb_incandescent', 'South Africa', 'Consumer Staples', 'Packaged Foods']\n",
      "['41', 'Liberty Holdings Ltd', '$1.79 B\\n                                            (Feb. 1, 2022)', 'LBH\\n                                        \\n\\nwb_incandescent', 'South Africa', 'Financials', 'Insurance—Diversified']\n",
      "['42', 'Santam Ltd', '$1.71 B', 'SNT\\n                                        \\n\\nwb_incandescent', 'South Africa', 'Financials', 'Insurance—Specialty']\n",
      "['43', 'Investec Group', '$1.67 B', 'INL\\n                                        \\n\\nwb_incandescent', 'South Africa', 'Financials', 'Capital Markets']\n",
      "['44', 'Momentum Metropolitan Holdings Ltd', '$1.59 B', 'MTM\\n                                        \\n\\nwb_incandescent', 'South Africa', 'Financials', 'Insurance—Diversified']\n",
      "['45', 'AVI Ltd', '$1.46 B', 'AVI\\n                                        \\n\\nwb_incandescent', 'South Africa', 'Consumer Staples', 'Packaged Foods']\n",
      "['46', 'Redefine Properties Ltd', '$1.44 B', 'RDF\\n                                        \\n\\nwb_incandescent', 'South Africa', 'Real Estate', 'REIT—Diversified']\n",
      "['47', 'Life Healthcare Group Holdings Ltd', '$1.43 B', 'LHC\\n                                        \\n\\nwb_incandescent', 'South Africa', 'Healthcare', 'Medical Care Facilities']\n",
      "['48', 'Truworths International Ltd', '$1.42 B', 'TRU\\n                                        \\n\\nwb_incandescent', 'South Africa', 'Consumer Discretionary', 'Apparel Retail']\n",
      "['49', 'Dis-Chem Pharmacies Ltd', '$1.38 B', 'DCP\\n                                        \\n\\nwb_incandescent', 'South Africa', 'Healthcare', 'Pharmaceutical Retailers']\n",
      "['50', 'Sappi Limited', '$1.35 B', 'SPI\\n                                        \\n\\nwb_incandescent', 'South Africa', 'Basic Materials', 'Paper & Paper Products']\n"
     ]
    }
   ],
   "source": [
    "for rows in column_data[:]:\n",
    "    rows_data=rows.find_all(\"td\")\n",
    "    world_rows=[data.text.strip() for data in rows_data]\n",
    "    print(world_rows)"
   ]
  },
  {
   "cell_type": "code",
   "execution_count": 9,
   "id": "c43b304d",
   "metadata": {},
   "outputs": [],
   "source": [
    "df=pd.DataFrame(columns=world_table_title)"
   ]
  },
  {
   "cell_type": "code",
   "execution_count": 10,
   "id": "4fa6d0dc",
   "metadata": {},
   "outputs": [
    {
     "data": {
      "text/html": [
       "<div>\n",
       "<style scoped>\n",
       "    .dataframe tbody tr th:only-of-type {\n",
       "        vertical-align: middle;\n",
       "    }\n",
       "\n",
       "    .dataframe tbody tr th {\n",
       "        vertical-align: top;\n",
       "    }\n",
       "\n",
       "    .dataframe thead th {\n",
       "        text-align: right;\n",
       "    }\n",
       "</style>\n",
       "<table border=\"1\" class=\"dataframe\">\n",
       "  <thead>\n",
       "    <tr style=\"text-align: right;\">\n",
       "      <th></th>\n",
       "      <th>Ranking</th>\n",
       "      <th>Company</th>\n",
       "      <th>Market Cap (USD)</th>\n",
       "      <th>Stock</th>\n",
       "      <th>Country</th>\n",
       "      <th>Sector</th>\n",
       "      <th>Industry</th>\n",
       "    </tr>\n",
       "  </thead>\n",
       "  <tbody>\n",
       "  </tbody>\n",
       "</table>\n",
       "</div>"
      ],
      "text/plain": [
       "Empty DataFrame\n",
       "Columns: [Ranking, Company, Market Cap (USD), Stock, Country, Sector, Industry]\n",
       "Index: []"
      ]
     },
     "execution_count": 10,
     "metadata": {},
     "output_type": "execute_result"
    }
   ],
   "source": [
    "df"
   ]
  },
  {
   "cell_type": "code",
   "execution_count": 10,
   "id": "9eeb6025",
   "metadata": {},
   "outputs": [],
   "source": [
    "column_data=soup.find_all(\"tr\")"
   ]
  },
  {
   "cell_type": "code",
   "execution_count": 12,
   "id": "64af72c0",
   "metadata": {},
   "outputs": [],
   "source": [
    "for rows in column_data[11:]:\n",
    "    rows_data=rows.find_all(\"td\")\n",
    "    world_rows=[data.text.strip() for data in rows_data]\n",
    "    \n",
    "    \n",
    "    length=len(df)\n",
    "    df.loc[length]=world_rows\n",
    "  "
   ]
  },
  {
   "cell_type": "code",
   "execution_count": 13,
   "id": "da25eefe",
   "metadata": {},
   "outputs": [
    {
     "data": {
      "text/html": [
       "<div>\n",
       "<style scoped>\n",
       "    .dataframe tbody tr th:only-of-type {\n",
       "        vertical-align: middle;\n",
       "    }\n",
       "\n",
       "    .dataframe tbody tr th {\n",
       "        vertical-align: top;\n",
       "    }\n",
       "\n",
       "    .dataframe thead th {\n",
       "        text-align: right;\n",
       "    }\n",
       "</style>\n",
       "<table border=\"1\" class=\"dataframe\">\n",
       "  <thead>\n",
       "    <tr style=\"text-align: right;\">\n",
       "      <th></th>\n",
       "      <th>Ranking</th>\n",
       "      <th>Company</th>\n",
       "      <th>Market Cap (USD)</th>\n",
       "      <th>Stock</th>\n",
       "      <th>Country</th>\n",
       "      <th>Sector</th>\n",
       "      <th>Industry</th>\n",
       "    </tr>\n",
       "  </thead>\n",
       "  <tbody>\n",
       "    <tr>\n",
       "      <th>0</th>\n",
       "      <td>10</td>\n",
       "      <td>Shoprite Holdings Ltd</td>\n",
       "      <td>$8.01 B</td>\n",
       "      <td>SHP\\n                                        \\...</td>\n",
       "      <td>South Africa</td>\n",
       "      <td>Consumer Discretionary</td>\n",
       "      <td>Department Stores</td>\n",
       "    </tr>\n",
       "    <tr>\n",
       "      <th>1</th>\n",
       "      <td>11</td>\n",
       "      <td>Sanlam Ltd</td>\n",
       "      <td>$7.95 B</td>\n",
       "      <td>SLM\\n                                        \\...</td>\n",
       "      <td>South Africa</td>\n",
       "      <td>Financials</td>\n",
       "      <td>Insurance—Life</td>\n",
       "    </tr>\n",
       "    <tr>\n",
       "      <th>2</th>\n",
       "      <td>12</td>\n",
       "      <td>Tower Property Fund Ltd</td>\n",
       "      <td>$7.94 B\\n                                     ...</td>\n",
       "      <td>TWR\\n                                        \\...</td>\n",
       "      <td>South Africa</td>\n",
       "      <td>Real Estate</td>\n",
       "      <td>REIT—Diversified</td>\n",
       "    </tr>\n",
       "    <tr>\n",
       "      <th>3</th>\n",
       "      <td>13</td>\n",
       "      <td>Hosken Passenger Logistics and Rail Ltd</td>\n",
       "      <td>$7.67 B\\n                                     ...</td>\n",
       "      <td>HPR\\n                                        \\...</td>\n",
       "      <td>South Africa</td>\n",
       "      <td>Industrials</td>\n",
       "      <td>Railroads</td>\n",
       "    </tr>\n",
       "    <tr>\n",
       "      <th>4</th>\n",
       "      <td>14</td>\n",
       "      <td>AngloGold Ashanti Limited</td>\n",
       "      <td>$7.58 B</td>\n",
       "      <td>ANG\\n                                        \\...</td>\n",
       "      <td>South Africa</td>\n",
       "      <td>Basic Materials</td>\n",
       "      <td>Gold</td>\n",
       "    </tr>\n",
       "  </tbody>\n",
       "</table>\n",
       "</div>"
      ],
      "text/plain": [
       "  Ranking                                  Company  \\\n",
       "0      10                    Shoprite Holdings Ltd   \n",
       "1      11                               Sanlam Ltd   \n",
       "2      12                  Tower Property Fund Ltd   \n",
       "3      13  Hosken Passenger Logistics and Rail Ltd   \n",
       "4      14                AngloGold Ashanti Limited   \n",
       "\n",
       "                                    Market Cap (USD)  \\\n",
       "0                                            $8.01 B   \n",
       "1                                            $7.95 B   \n",
       "2  $7.94 B\\n                                     ...   \n",
       "3  $7.67 B\\n                                     ...   \n",
       "4                                            $7.58 B   \n",
       "\n",
       "                                               Stock       Country  \\\n",
       "0  SHP\\n                                        \\...  South Africa   \n",
       "1  SLM\\n                                        \\...  South Africa   \n",
       "2  TWR\\n                                        \\...  South Africa   \n",
       "3  HPR\\n                                        \\...  South Africa   \n",
       "4  ANG\\n                                        \\...  South Africa   \n",
       "\n",
       "                   Sector           Industry  \n",
       "0  Consumer Discretionary  Department Stores  \n",
       "1              Financials     Insurance—Life  \n",
       "2             Real Estate   REIT—Diversified  \n",
       "3             Industrials          Railroads  \n",
       "4         Basic Materials               Gold  "
      ]
     },
     "execution_count": 13,
     "metadata": {},
     "output_type": "execute_result"
    }
   ],
   "source": [
    "df.head()"
   ]
  },
  {
   "cell_type": "code",
   "execution_count": 14,
   "id": "d6d1e256",
   "metadata": {},
   "outputs": [
    {
     "name": "stdout",
     "output_type": "stream",
     "text": [
      "<class 'pandas.core.frame.DataFrame'>\n",
      "Int64Index: 41 entries, 0 to 40\n",
      "Data columns (total 7 columns):\n",
      " #   Column            Non-Null Count  Dtype \n",
      "---  ------            --------------  ----- \n",
      " 0   Ranking           41 non-null     object\n",
      " 1   Company           41 non-null     object\n",
      " 2   Market Cap (USD)  41 non-null     object\n",
      " 3   Stock             41 non-null     object\n",
      " 4   Country           41 non-null     object\n",
      " 5   Sector            41 non-null     object\n",
      " 6   Industry          41 non-null     object\n",
      "dtypes: object(7)\n",
      "memory usage: 2.6+ KB\n"
     ]
    }
   ],
   "source": [
    "df.info()"
   ]
  },
  {
   "cell_type": "code",
   "execution_count": 15,
   "id": "212b7ded",
   "metadata": {},
   "outputs": [],
   "source": [
    "df.columns=df.columns.str.lower().str.strip()"
   ]
  },
  {
   "cell_type": "code",
   "execution_count": 16,
   "id": "0d61afd5",
   "metadata": {},
   "outputs": [],
   "source": [
    "df.ranking=df.ranking.astype(int)"
   ]
  },
  {
   "cell_type": "code",
   "execution_count": 17,
   "id": "eb5c54ff",
   "metadata": {},
   "outputs": [],
   "source": [
    "#df['market cap (usd)']=df['market cap (usd)'].astype(int)"
   ]
  },
  {
   "cell_type": "code",
   "execution_count": 18,
   "id": "147fd758",
   "metadata": {},
   "outputs": [],
   "source": [
    "df.drop(\"stock\",axis=1,inplace=True)"
   ]
  },
  {
   "cell_type": "code",
   "execution_count": 19,
   "id": "7afab4f3",
   "metadata": {},
   "outputs": [
    {
     "data": {
      "text/plain": [
       "0                                               $8.01 B\n",
       "1                                               $7.95 B\n",
       "2     $7.94 B\\n                                     ...\n",
       "3     $7.67 B\\n                                     ...\n",
       "4                                               $7.58 B\n",
       "5                                               $7.53 B\n",
       "6                                               $6.44 B\n",
       "7     $6.08 B\\n                                     ...\n",
       "8     $6.04 B\\n                                     ...\n",
       "9                                               $5.29 B\n",
       "10                                              $4.93 B\n",
       "11                                              $4.74 B\n",
       "12    $4.68 B\\n                                     ...\n",
       "13                                              $4.43 B\n",
       "14                                              $4.11 B\n",
       "15                                              $4.03 B\n",
       "16                                              $3.81 B\n",
       "17                                              $3.79 B\n",
       "18                                              $3.68 B\n",
       "19                                              $3.45 B\n",
       "20                                              $3.43 B\n",
       "21                                              $3.18 B\n",
       "22                                              $2.98 B\n",
       "23                                              $2.58 B\n",
       "24                                              $2.11 B\n",
       "25                                              $2.10 B\n",
       "26                                              $2.04 B\n",
       "27    $2.04 B\\n                                     ...\n",
       "28                                              $2.03 B\n",
       "29                                              $2.02 B\n",
       "30                                              $1.86 B\n",
       "31    $1.79 B\\n                                     ...\n",
       "32                                              $1.71 B\n",
       "33                                              $1.67 B\n",
       "34                                              $1.59 B\n",
       "35                                              $1.46 B\n",
       "36                                              $1.44 B\n",
       "37                                              $1.43 B\n",
       "38                                              $1.42 B\n",
       "39                                              $1.38 B\n",
       "40                                              $1.35 B\n",
       "Name: market cap (usd), dtype: object"
      ]
     },
     "execution_count": 19,
     "metadata": {},
     "output_type": "execute_result"
    }
   ],
   "source": [
    "df['market cap (usd)']"
   ]
  },
  {
   "cell_type": "code",
   "execution_count": 23,
   "id": "cd346bb5",
   "metadata": {},
   "outputs": [
    {
     "ename": "SyntaxError",
     "evalue": "invalid syntax (<ipython-input-23-ef862a2b2683>, line 1)",
     "output_type": "error",
     "traceback": [
      "\u001b[1;36m  File \u001b[1;32m\"<ipython-input-23-ef862a2b2683>\"\u001b[1;36m, line \u001b[1;32m1\u001b[0m\n\u001b[1;33m    for i in df.market cap (usd):\u001b[0m\n\u001b[1;37m                       ^\u001b[0m\n\u001b[1;31mSyntaxError\u001b[0m\u001b[1;31m:\u001b[0m invalid syntax\n"
     ]
    }
   ],
   "source": [
    "for i in df.market cap (usd):\n",
    "    if i =='\\n':\n",
    "        print(np.NaN)\n",
    "    else:\n",
    "        print(df.market cap (usd))"
   ]
  },
  {
   "cell_type": "code",
   "execution_count": 20,
   "id": "078ffd58",
   "metadata": {},
   "outputs": [
    {
     "ename": "TypeError",
     "evalue": "replace() got an unexpected keyword argument 'axis'",
     "output_type": "error",
     "traceback": [
      "\u001b[1;31m---------------------------------------------------------------------------\u001b[0m",
      "\u001b[1;31mTypeError\u001b[0m                                 Traceback (most recent call last)",
      "\u001b[1;32m<ipython-input-20-00f7dbe7627a>\u001b[0m in \u001b[0;36m<module>\u001b[1;34m\u001b[0m\n\u001b[1;32m----> 1\u001b[1;33m \u001b[0mdf\u001b[0m\u001b[1;33m[\u001b[0m\u001b[1;34m'market cap (usd)'\u001b[0m\u001b[1;33m]\u001b[0m\u001b[1;33m=\u001b[0m\u001b[0mdf\u001b[0m\u001b[1;33m[\u001b[0m\u001b[1;34m'market cap (usd)'\u001b[0m\u001b[1;33m]\u001b[0m\u001b[1;33m.\u001b[0m\u001b[0mreplace\u001b[0m\u001b[1;33m(\u001b[0m\u001b[1;34m'\\n'\u001b[0m\u001b[1;33m,\u001b[0m\u001b[0mnp\u001b[0m\u001b[1;33m.\u001b[0m\u001b[0mNaN\u001b[0m\u001b[1;33m,\u001b[0m\u001b[0minplace\u001b[0m\u001b[1;33m=\u001b[0m\u001b[1;32mTrue\u001b[0m\u001b[1;33m,\u001b[0m\u001b[0maxis\u001b[0m\u001b[1;33m=\u001b[0m\u001b[1;36m0\u001b[0m\u001b[1;33m)\u001b[0m\u001b[1;33m\u001b[0m\u001b[1;33m\u001b[0m\u001b[0m\n\u001b[0m",
      "\u001b[1;31mTypeError\u001b[0m: replace() got an unexpected keyword argument 'axis'"
     ]
    }
   ],
   "source": [
    "df['market cap (usd)']=df['market cap (usd)'].replace('\\n',np.NaN,inplace=True,axis=0)"
   ]
  },
  {
   "cell_type": "code",
   "execution_count": 24,
   "id": "16b2871c",
   "metadata": {},
   "outputs": [
    {
     "data": {
      "text/html": [
       "<div>\n",
       "<style scoped>\n",
       "    .dataframe tbody tr th:only-of-type {\n",
       "        vertical-align: middle;\n",
       "    }\n",
       "\n",
       "    .dataframe tbody tr th {\n",
       "        vertical-align: top;\n",
       "    }\n",
       "\n",
       "    .dataframe thead th {\n",
       "        text-align: right;\n",
       "    }\n",
       "</style>\n",
       "<table border=\"1\" class=\"dataframe\">\n",
       "  <thead>\n",
       "    <tr style=\"text-align: right;\">\n",
       "      <th></th>\n",
       "      <th>ranking</th>\n",
       "      <th>company</th>\n",
       "      <th>market cap (usd)</th>\n",
       "      <th>country</th>\n",
       "      <th>sector</th>\n",
       "      <th>industry</th>\n",
       "    </tr>\n",
       "  </thead>\n",
       "  <tbody>\n",
       "    <tr>\n",
       "      <th>29</th>\n",
       "      <td>39</td>\n",
       "      <td>Mr Price Group Ltd</td>\n",
       "      <td>$2.02 B</td>\n",
       "      <td>South Africa</td>\n",
       "      <td>Consumer Discretionary</td>\n",
       "      <td>Apparel Retail</td>\n",
       "    </tr>\n",
       "    <tr>\n",
       "      <th>30</th>\n",
       "      <td>40</td>\n",
       "      <td>Tiger Brands Ltd</td>\n",
       "      <td>$1.86 B</td>\n",
       "      <td>South Africa</td>\n",
       "      <td>Consumer Staples</td>\n",
       "      <td>Packaged Foods</td>\n",
       "    </tr>\n",
       "    <tr>\n",
       "      <th>31</th>\n",
       "      <td>41</td>\n",
       "      <td>Liberty Holdings Ltd</td>\n",
       "      <td>$1.79 B\\n                                     ...</td>\n",
       "      <td>South Africa</td>\n",
       "      <td>Financials</td>\n",
       "      <td>Insurance—Diversified</td>\n",
       "    </tr>\n",
       "    <tr>\n",
       "      <th>32</th>\n",
       "      <td>42</td>\n",
       "      <td>Santam Ltd</td>\n",
       "      <td>$1.71 B</td>\n",
       "      <td>South Africa</td>\n",
       "      <td>Financials</td>\n",
       "      <td>Insurance—Specialty</td>\n",
       "    </tr>\n",
       "    <tr>\n",
       "      <th>33</th>\n",
       "      <td>43</td>\n",
       "      <td>Investec Group</td>\n",
       "      <td>$1.67 B</td>\n",
       "      <td>South Africa</td>\n",
       "      <td>Financials</td>\n",
       "      <td>Capital Markets</td>\n",
       "    </tr>\n",
       "    <tr>\n",
       "      <th>34</th>\n",
       "      <td>44</td>\n",
       "      <td>Momentum Metropolitan Holdings Ltd</td>\n",
       "      <td>$1.59 B</td>\n",
       "      <td>South Africa</td>\n",
       "      <td>Financials</td>\n",
       "      <td>Insurance—Diversified</td>\n",
       "    </tr>\n",
       "    <tr>\n",
       "      <th>35</th>\n",
       "      <td>45</td>\n",
       "      <td>AVI Ltd</td>\n",
       "      <td>$1.46 B</td>\n",
       "      <td>South Africa</td>\n",
       "      <td>Consumer Staples</td>\n",
       "      <td>Packaged Foods</td>\n",
       "    </tr>\n",
       "    <tr>\n",
       "      <th>36</th>\n",
       "      <td>46</td>\n",
       "      <td>Redefine Properties Ltd</td>\n",
       "      <td>$1.44 B</td>\n",
       "      <td>South Africa</td>\n",
       "      <td>Real Estate</td>\n",
       "      <td>REIT—Diversified</td>\n",
       "    </tr>\n",
       "    <tr>\n",
       "      <th>37</th>\n",
       "      <td>47</td>\n",
       "      <td>Life Healthcare Group Holdings Ltd</td>\n",
       "      <td>$1.43 B</td>\n",
       "      <td>South Africa</td>\n",
       "      <td>Healthcare</td>\n",
       "      <td>Medical Care Facilities</td>\n",
       "    </tr>\n",
       "    <tr>\n",
       "      <th>38</th>\n",
       "      <td>48</td>\n",
       "      <td>Truworths International Ltd</td>\n",
       "      <td>$1.42 B</td>\n",
       "      <td>South Africa</td>\n",
       "      <td>Consumer Discretionary</td>\n",
       "      <td>Apparel Retail</td>\n",
       "    </tr>\n",
       "    <tr>\n",
       "      <th>39</th>\n",
       "      <td>49</td>\n",
       "      <td>Dis-Chem Pharmacies Ltd</td>\n",
       "      <td>$1.38 B</td>\n",
       "      <td>South Africa</td>\n",
       "      <td>Healthcare</td>\n",
       "      <td>Pharmaceutical Retailers</td>\n",
       "    </tr>\n",
       "    <tr>\n",
       "      <th>40</th>\n",
       "      <td>50</td>\n",
       "      <td>Sappi Limited</td>\n",
       "      <td>$1.35 B</td>\n",
       "      <td>South Africa</td>\n",
       "      <td>Basic Materials</td>\n",
       "      <td>Paper &amp; Paper Products</td>\n",
       "    </tr>\n",
       "  </tbody>\n",
       "</table>\n",
       "</div>"
      ],
      "text/plain": [
       "    ranking                             company  \\\n",
       "29       39                  Mr Price Group Ltd   \n",
       "30       40                    Tiger Brands Ltd   \n",
       "31       41                Liberty Holdings Ltd   \n",
       "32       42                          Santam Ltd   \n",
       "33       43                      Investec Group   \n",
       "34       44  Momentum Metropolitan Holdings Ltd   \n",
       "35       45                             AVI Ltd   \n",
       "36       46             Redefine Properties Ltd   \n",
       "37       47  Life Healthcare Group Holdings Ltd   \n",
       "38       48         Truworths International Ltd   \n",
       "39       49             Dis-Chem Pharmacies Ltd   \n",
       "40       50                       Sappi Limited   \n",
       "\n",
       "                                     market cap (usd)       country  \\\n",
       "29                                            $2.02 B  South Africa   \n",
       "30                                            $1.86 B  South Africa   \n",
       "31  $1.79 B\\n                                     ...  South Africa   \n",
       "32                                            $1.71 B  South Africa   \n",
       "33                                            $1.67 B  South Africa   \n",
       "34                                            $1.59 B  South Africa   \n",
       "35                                            $1.46 B  South Africa   \n",
       "36                                            $1.44 B  South Africa   \n",
       "37                                            $1.43 B  South Africa   \n",
       "38                                            $1.42 B  South Africa   \n",
       "39                                            $1.38 B  South Africa   \n",
       "40                                            $1.35 B  South Africa   \n",
       "\n",
       "                    sector                  industry  \n",
       "29  Consumer Discretionary            Apparel Retail  \n",
       "30        Consumer Staples            Packaged Foods  \n",
       "31              Financials     Insurance—Diversified  \n",
       "32              Financials       Insurance—Specialty  \n",
       "33              Financials           Capital Markets  \n",
       "34              Financials     Insurance—Diversified  \n",
       "35        Consumer Staples            Packaged Foods  \n",
       "36             Real Estate          REIT—Diversified  \n",
       "37              Healthcare   Medical Care Facilities  \n",
       "38  Consumer Discretionary            Apparel Retail  \n",
       "39              Healthcare  Pharmaceutical Retailers  \n",
       "40         Basic Materials    Paper & Paper Products  "
      ]
     },
     "execution_count": 24,
     "metadata": {},
     "output_type": "execute_result"
    }
   ],
   "source": [
    "df.tail(12)"
   ]
  },
  {
   "cell_type": "code",
   "execution_count": null,
   "id": "c8c48cca",
   "metadata": {},
   "outputs": [],
   "source": []
  },
  {
   "cell_type": "code",
   "execution_count": null,
   "id": "9da9fc30",
   "metadata": {},
   "outputs": [],
   "source": [
    "df.info()"
   ]
  },
  {
   "cell_type": "code",
   "execution_count": null,
   "id": "79ab6929",
   "metadata": {},
   "outputs": [],
   "source": [
    "df.to_csv('companiess.csv')"
   ]
  },
  {
   "cell_type": "code",
   "execution_count": null,
   "id": "5e83a36c",
   "metadata": {},
   "outputs": [],
   "source": []
  },
  {
   "cell_type": "code",
   "execution_count": null,
   "id": "6d6bc2e7",
   "metadata": {},
   "outputs": [],
   "source": []
  }
 ],
 "metadata": {
  "kernelspec": {
   "display_name": "Python 3",
   "language": "python",
   "name": "python3"
  },
  "language_info": {
   "codemirror_mode": {
    "name": "ipython",
    "version": 3
   },
   "file_extension": ".py",
   "mimetype": "text/x-python",
   "name": "python",
   "nbconvert_exporter": "python",
   "pygments_lexer": "ipython3",
   "version": "3.8.8"
  }
 },
 "nbformat": 4,
 "nbformat_minor": 5
}
